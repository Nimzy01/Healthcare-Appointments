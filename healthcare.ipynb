{
 "cells": [
  {
   "cell_type": "markdown",
   "metadata": {},
   "source": [
    "##### I'm analysing a healthcare-related dataset that tracks patient appointments and whether or not patients showed up for their scheduled appointments. Using VS Code, the first hing I need to do, is to import necessary libraries. I'll be importing pandas for data manipulation, numpy for numerical operations and matplotlib for visualization"
   ]
  },
  {
   "cell_type": "markdown",
   "metadata": {},
   "source": [
    "Step 1: Import Necessary libraries."
   ]
  },
  {
   "cell_type": "markdown",
   "metadata": {},
   "source": []
  },
  {
   "cell_type": "code",
   "execution_count": 17,
   "metadata": {},
   "outputs": [],
   "source": [
    "import numpy as np\n",
    "import pandas as pd\n",
    "import matplotlib.pyplot as plt\n"
   ]
  },
  {
   "cell_type": "markdown",
   "metadata": {},
   "source": [
    "##### Step 2: Load the dataset."
   ]
  },
  {
   "cell_type": "code",
   "execution_count": 2,
   "metadata": {},
   "outputs": [],
   "source": [
    "df=pd.read_csv(r\"C:\\Users\\USER\\Desktop\\Python\\healthcare_noshows.csv\")"
   ]
  },
  {
   "cell_type": "markdown",
   "metadata": {},
   "source": [
    "##### I need to clean the dataset to enable me work with clean data and achieve accurate analysis."
   ]
  },
  {
   "cell_type": "markdown",
   "metadata": {},
   "source": [
    "##### Step 3: Inspect the dataset."
   ]
  },
  {
   "cell_type": "code",
   "execution_count": 3,
   "metadata": {},
   "outputs": [
    {
     "data": {
      "text/html": [
       "<div>\n",
       "<style scoped>\n",
       "    .dataframe tbody tr th:only-of-type {\n",
       "        vertical-align: middle;\n",
       "    }\n",
       "\n",
       "    .dataframe tbody tr th {\n",
       "        vertical-align: top;\n",
       "    }\n",
       "\n",
       "    .dataframe thead th {\n",
       "        text-align: right;\n",
       "    }\n",
       "</style>\n",
       "<table border=\"1\" class=\"dataframe\">\n",
       "  <thead>\n",
       "    <tr style=\"text-align: right;\">\n",
       "      <th></th>\n",
       "      <th>PatientId</th>\n",
       "      <th>AppointmentID</th>\n",
       "      <th>Gender</th>\n",
       "      <th>ScheduledDay</th>\n",
       "      <th>AppointmentDay</th>\n",
       "      <th>Age</th>\n",
       "      <th>Neighbourhood</th>\n",
       "      <th>Scholarship</th>\n",
       "      <th>Hipertension</th>\n",
       "      <th>Diabetes</th>\n",
       "      <th>Alcoholism</th>\n",
       "      <th>Handcap</th>\n",
       "      <th>SMS_received</th>\n",
       "      <th>Showed_up</th>\n",
       "      <th>Date.diff</th>\n",
       "    </tr>\n",
       "  </thead>\n",
       "  <tbody>\n",
       "    <tr>\n",
       "      <th>0</th>\n",
       "      <td>2.987250e+13</td>\n",
       "      <td>5642903</td>\n",
       "      <td>F</td>\n",
       "      <td>2016-04-29</td>\n",
       "      <td>2016-04-29</td>\n",
       "      <td>62</td>\n",
       "      <td>JARDIM DA PENHA</td>\n",
       "      <td>False</td>\n",
       "      <td>True</td>\n",
       "      <td>False</td>\n",
       "      <td>False</td>\n",
       "      <td>False</td>\n",
       "      <td>False</td>\n",
       "      <td>True</td>\n",
       "      <td>0</td>\n",
       "    </tr>\n",
       "    <tr>\n",
       "      <th>1</th>\n",
       "      <td>5.589978e+14</td>\n",
       "      <td>5642503</td>\n",
       "      <td>M</td>\n",
       "      <td>2016-04-29</td>\n",
       "      <td>2016-04-29</td>\n",
       "      <td>56</td>\n",
       "      <td>JARDIM DA PENHA</td>\n",
       "      <td>False</td>\n",
       "      <td>False</td>\n",
       "      <td>False</td>\n",
       "      <td>False</td>\n",
       "      <td>False</td>\n",
       "      <td>False</td>\n",
       "      <td>True</td>\n",
       "      <td>0</td>\n",
       "    </tr>\n",
       "    <tr>\n",
       "      <th>2</th>\n",
       "      <td>4.262962e+12</td>\n",
       "      <td>5642549</td>\n",
       "      <td>F</td>\n",
       "      <td>2016-04-29</td>\n",
       "      <td>2016-04-29</td>\n",
       "      <td>62</td>\n",
       "      <td>MATA DA PRAIA</td>\n",
       "      <td>False</td>\n",
       "      <td>False</td>\n",
       "      <td>False</td>\n",
       "      <td>False</td>\n",
       "      <td>False</td>\n",
       "      <td>False</td>\n",
       "      <td>True</td>\n",
       "      <td>0</td>\n",
       "    </tr>\n",
       "    <tr>\n",
       "      <th>3</th>\n",
       "      <td>8.679512e+11</td>\n",
       "      <td>5642828</td>\n",
       "      <td>F</td>\n",
       "      <td>2016-04-29</td>\n",
       "      <td>2016-04-29</td>\n",
       "      <td>8</td>\n",
       "      <td>PONTAL DE CAMBURI</td>\n",
       "      <td>False</td>\n",
       "      <td>False</td>\n",
       "      <td>False</td>\n",
       "      <td>False</td>\n",
       "      <td>False</td>\n",
       "      <td>False</td>\n",
       "      <td>True</td>\n",
       "      <td>0</td>\n",
       "    </tr>\n",
       "    <tr>\n",
       "      <th>4</th>\n",
       "      <td>8.841186e+12</td>\n",
       "      <td>5642494</td>\n",
       "      <td>F</td>\n",
       "      <td>2016-04-29</td>\n",
       "      <td>2016-04-29</td>\n",
       "      <td>56</td>\n",
       "      <td>JARDIM DA PENHA</td>\n",
       "      <td>False</td>\n",
       "      <td>True</td>\n",
       "      <td>True</td>\n",
       "      <td>False</td>\n",
       "      <td>False</td>\n",
       "      <td>False</td>\n",
       "      <td>True</td>\n",
       "      <td>0</td>\n",
       "    </tr>\n",
       "  </tbody>\n",
       "</table>\n",
       "</div>"
      ],
      "text/plain": [
       "      PatientId  AppointmentID Gender ScheduledDay AppointmentDay  Age  \\\n",
       "0  2.987250e+13        5642903      F   2016-04-29     2016-04-29   62   \n",
       "1  5.589978e+14        5642503      M   2016-04-29     2016-04-29   56   \n",
       "2  4.262962e+12        5642549      F   2016-04-29     2016-04-29   62   \n",
       "3  8.679512e+11        5642828      F   2016-04-29     2016-04-29    8   \n",
       "4  8.841186e+12        5642494      F   2016-04-29     2016-04-29   56   \n",
       "\n",
       "       Neighbourhood  Scholarship  Hipertension  Diabetes  Alcoholism  \\\n",
       "0    JARDIM DA PENHA        False          True     False       False   \n",
       "1    JARDIM DA PENHA        False         False     False       False   \n",
       "2      MATA DA PRAIA        False         False     False       False   \n",
       "3  PONTAL DE CAMBURI        False         False     False       False   \n",
       "4    JARDIM DA PENHA        False          True      True       False   \n",
       "\n",
       "   Handcap  SMS_received  Showed_up  Date.diff  \n",
       "0    False         False       True          0  \n",
       "1    False         False       True          0  \n",
       "2    False         False       True          0  \n",
       "3    False         False       True          0  \n",
       "4    False         False       True          0  "
      ]
     },
     "execution_count": 3,
     "metadata": {},
     "output_type": "execute_result"
    }
   ],
   "source": [
    "df.head()"
   ]
  },
  {
   "cell_type": "code",
   "execution_count": 4,
   "metadata": {},
   "outputs": [
    {
     "name": "stdout",
     "output_type": "stream",
     "text": [
      "<class 'pandas.core.frame.DataFrame'>\n",
      "RangeIndex: 106987 entries, 0 to 106986\n",
      "Data columns (total 15 columns):\n",
      " #   Column          Non-Null Count   Dtype  \n",
      "---  ------          --------------   -----  \n",
      " 0   PatientId       106987 non-null  float64\n",
      " 1   AppointmentID   106987 non-null  int64  \n",
      " 2   Gender          106987 non-null  object \n",
      " 3   ScheduledDay    106987 non-null  object \n",
      " 4   AppointmentDay  106987 non-null  object \n",
      " 5   Age             106987 non-null  int64  \n",
      " 6   Neighbourhood   106987 non-null  object \n",
      " 7   Scholarship     106987 non-null  bool   \n",
      " 8   Hipertension    106987 non-null  bool   \n",
      " 9   Diabetes        106987 non-null  bool   \n",
      " 10  Alcoholism      106987 non-null  bool   \n",
      " 11  Handcap         106987 non-null  bool   \n",
      " 12  SMS_received    106987 non-null  bool   \n",
      " 13  Showed_up       106987 non-null  bool   \n",
      " 14  Date.diff       106987 non-null  int64  \n",
      "dtypes: bool(7), float64(1), int64(3), object(4)\n",
      "memory usage: 7.2+ MB\n"
     ]
    }
   ],
   "source": [
    "df.info()"
   ]
  },
  {
   "cell_type": "code",
   "execution_count": 5,
   "metadata": {},
   "outputs": [
    {
     "data": {
      "text/plain": [
       "PatientId         0\n",
       "AppointmentID     0\n",
       "Gender            0\n",
       "ScheduledDay      0\n",
       "AppointmentDay    0\n",
       "Age               0\n",
       "Neighbourhood     0\n",
       "Scholarship       0\n",
       "Hipertension      0\n",
       "Diabetes          0\n",
       "Alcoholism        0\n",
       "Handcap           0\n",
       "SMS_received      0\n",
       "Showed_up         0\n",
       "Date.diff         0\n",
       "dtype: int64"
      ]
     },
     "execution_count": 5,
     "metadata": {},
     "output_type": "execute_result"
    }
   ],
   "source": [
    "df.isnull().sum()"
   ]
  },
  {
   "cell_type": "markdown",
   "metadata": {},
   "source": [
    "##### My dataset has no null values hence, I can go ahead to analyze."
   ]
  },
  {
   "cell_type": "code",
   "execution_count": 6,
   "metadata": {},
   "outputs": [
    {
     "data": {
      "text/html": [
       "<div>\n",
       "<style scoped>\n",
       "    .dataframe tbody tr th:only-of-type {\n",
       "        vertical-align: middle;\n",
       "    }\n",
       "\n",
       "    .dataframe tbody tr th {\n",
       "        vertical-align: top;\n",
       "    }\n",
       "\n",
       "    .dataframe thead th {\n",
       "        text-align: right;\n",
       "    }\n",
       "</style>\n",
       "<table border=\"1\" class=\"dataframe\">\n",
       "  <thead>\n",
       "    <tr style=\"text-align: right;\">\n",
       "      <th></th>\n",
       "      <th>PatientId</th>\n",
       "      <th>AppointmentID</th>\n",
       "      <th>Age</th>\n",
       "      <th>Date.diff</th>\n",
       "    </tr>\n",
       "  </thead>\n",
       "  <tbody>\n",
       "    <tr>\n",
       "      <th>count</th>\n",
       "      <td>1.069870e+05</td>\n",
       "      <td>1.069870e+05</td>\n",
       "      <td>106987.000000</td>\n",
       "      <td>106987.000000</td>\n",
       "    </tr>\n",
       "    <tr>\n",
       "      <th>mean</th>\n",
       "      <td>1.472814e+14</td>\n",
       "      <td>5.675434e+06</td>\n",
       "      <td>38.316085</td>\n",
       "      <td>10.166721</td>\n",
       "    </tr>\n",
       "    <tr>\n",
       "      <th>std</th>\n",
       "      <td>2.558267e+14</td>\n",
       "      <td>7.133274e+04</td>\n",
       "      <td>22.466214</td>\n",
       "      <td>15.263508</td>\n",
       "    </tr>\n",
       "    <tr>\n",
       "      <th>min</th>\n",
       "      <td>3.921784e+04</td>\n",
       "      <td>5.030230e+06</td>\n",
       "      <td>1.000000</td>\n",
       "      <td>-6.000000</td>\n",
       "    </tr>\n",
       "    <tr>\n",
       "      <th>25%</th>\n",
       "      <td>4.173523e+12</td>\n",
       "      <td>5.640490e+06</td>\n",
       "      <td>19.000000</td>\n",
       "      <td>0.000000</td>\n",
       "    </tr>\n",
       "    <tr>\n",
       "      <th>50%</th>\n",
       "      <td>3.172463e+13</td>\n",
       "      <td>5.680744e+06</td>\n",
       "      <td>38.000000</td>\n",
       "      <td>4.000000</td>\n",
       "    </tr>\n",
       "    <tr>\n",
       "      <th>75%</th>\n",
       "      <td>9.433600e+13</td>\n",
       "      <td>5.725634e+06</td>\n",
       "      <td>56.000000</td>\n",
       "      <td>14.000000</td>\n",
       "    </tr>\n",
       "    <tr>\n",
       "      <th>max</th>\n",
       "      <td>9.999816e+14</td>\n",
       "      <td>5.790484e+06</td>\n",
       "      <td>115.000000</td>\n",
       "      <td>179.000000</td>\n",
       "    </tr>\n",
       "  </tbody>\n",
       "</table>\n",
       "</div>"
      ],
      "text/plain": [
       "          PatientId  AppointmentID            Age      Date.diff\n",
       "count  1.069870e+05   1.069870e+05  106987.000000  106987.000000\n",
       "mean   1.472814e+14   5.675434e+06      38.316085      10.166721\n",
       "std    2.558267e+14   7.133274e+04      22.466214      15.263508\n",
       "min    3.921784e+04   5.030230e+06       1.000000      -6.000000\n",
       "25%    4.173523e+12   5.640490e+06      19.000000       0.000000\n",
       "50%    3.172463e+13   5.680744e+06      38.000000       4.000000\n",
       "75%    9.433600e+13   5.725634e+06      56.000000      14.000000\n",
       "max    9.999816e+14   5.790484e+06     115.000000     179.000000"
      ]
     },
     "execution_count": 6,
     "metadata": {},
     "output_type": "execute_result"
    }
   ],
   "source": [
    "df.describe()"
   ]
  },
  {
   "cell_type": "markdown",
   "metadata": {},
   "source": []
  },
  {
   "cell_type": "code",
   "execution_count": 7,
   "metadata": {},
   "outputs": [
    {
     "data": {
      "text/plain": [
       "Index(['PatientId', 'AppointmentID', 'Gender', 'ScheduledDay',\n",
       "       'AppointmentDay', 'Age', 'Neighbourhood', 'Scholarship', 'Hipertension',\n",
       "       'Diabetes', 'Alcoholism', 'Handcap', 'SMS_received', 'Showed_up',\n",
       "       'Date.diff'],\n",
       "      dtype='object')"
      ]
     },
     "execution_count": 7,
     "metadata": {},
     "output_type": "execute_result"
    }
   ],
   "source": [
    "df.columns"
   ]
  },
  {
   "cell_type": "code",
   "execution_count": 8,
   "metadata": {},
   "outputs": [
    {
     "data": {
      "text/plain": [
       "0"
      ]
     },
     "execution_count": 8,
     "metadata": {},
     "output_type": "execute_result"
    }
   ],
   "source": [
    "df.duplicated().sum()"
   ]
  },
  {
   "cell_type": "code",
   "execution_count": 9,
   "metadata": {},
   "outputs": [],
   "source": [
    "# Create age groups\n",
    "bins = [0, 18, 35, 60, 100]\n",
    "labels = ['0-18', '19-35', '36-60', '61+']\n",
    "df['AgeGroup'] = pd.cut(df['Age'], bins=bins, labels=labels)"
   ]
  },
  {
   "cell_type": "code",
   "execution_count": 10,
   "metadata": {},
   "outputs": [
    {
     "data": {
      "text/plain": [
       "[0, 18, 35, 60, 100]"
      ]
     },
     "execution_count": 10,
     "metadata": {},
     "output_type": "execute_result"
    }
   ],
   "source": [
    "bins"
   ]
  },
  {
   "cell_type": "markdown",
   "metadata": {},
   "source": [
    "### Data Analysis"
   ]
  },
  {
   "cell_type": "markdown",
   "metadata": {},
   "source": [
    "##### 1. Distribution of Patients by Gender and Age Groups"
   ]
  },
  {
   "cell_type": "markdown",
   "metadata": {},
   "source": [
    "##### Creating Dataframe for Gender, Age distribution"
   ]
  },
  {
   "cell_type": "code",
   "execution_count": 22,
   "metadata": {},
   "outputs": [],
   "source": [
    "data = {'Gender': ['Male', 'Female', 'Male', 'Female'],\n",
    "    'Age Group': ['18-30', '18-30', '31-50', '31-50'],\n",
    "    'Count': [20, 25, 30, 35]}"
   ]
  },
  {
   "cell_type": "code",
   "execution_count": 23,
   "metadata": {},
   "outputs": [],
   "source": [
    "df= pd.DataFrame(data)"
   ]
  },
  {
   "cell_type": "code",
   "execution_count": 24,
   "metadata": {},
   "outputs": [],
   "source": [
    "gender_age_distribution = df.pivot_table(index='Gender', columns='Age Group', values='Count', aggfunc='sum')\n"
   ]
  },
  {
   "cell_type": "code",
   "execution_count": 25,
   "metadata": {},
   "outputs": [
    {
     "data": {
      "image/png": "[encoded data removed]",
      "text/plain": [
       "<Figure size 1000x600 with 1 Axes>"
      ]
     },
     "metadata": {},
     "output_type": "display_data"
    }
   ],
   "source": [
    "gender_age_distribution.plot(kind='bar', stacked=True, figsize=(10, 6))\n",
    "plt.title('Distribution of Patients by Gender and Age Group')\n",
    "plt.xlabel('Gender')\n",
    "plt.ylabel('Number of Patients')\n",
    "plt.show()"
   ]
  },
  {
   "cell_type": "markdown",
   "metadata": {},
   "source": [
    "##### 2. Neighborhood with Highest and Lowest Number of Patients"
   ]
  },
  {
   "cell_type": "code",
   "execution_count": 41,
   "metadata": {},
   "outputs": [
    {
     "name": "stdout",
     "output_type": "stream",
     "text": [
      "Neighborhood with the highest number of patients: JARDIM CAMBURI (7586 patients)\n",
      "Neighborhood with the lowest number of patients: PARQUE INDUSTRIAL (1 patients)\n"
     ]
    }
   ],
   "source": [
    "# Count patients by neighborhood\n",
    "neighborhood_counts = df['Neighbourhood'].value_counts()\n",
    "\n",
    "# Neighborhood with highest and lowest patients\n",
    "highest_neighborhood = neighborhood_counts.idxmax()\n",
    "lowest_neighborhood = neighborhood_counts.idxmin()\n",
    "\n",
    "print(f\"Neighborhood with the highest number of patients: {highest_neighborhood} ({neighborhood_counts.max()} patients)\")\n",
    "print(f\"Neighborhood with the lowest number of patients: {lowest_neighborhood} ({neighborhood_counts.min()} patients)\")"
   ]
  },
  {
   "cell_type": "markdown",
   "metadata": {},
   "source": [
    "##### 3. Average Age of Patients with and without Hypertension"
   ]
  },
  {
   "cell_type": "code",
   "execution_count": 43,
   "metadata": {},
   "outputs": [
    {
     "name": "stdout",
     "output_type": "stream",
     "text": [
      "Average age of patients with hypertension: 60.61\n",
      "Average age of patients without hypertension: 32.61\n"
     ]
    },
    {
     "name": "stderr",
     "output_type": "stream",
     "text": [
      "C:\\Users\\USER\\AppData\\Local\\Temp\\ipykernel_14152\\1746251377.py:4: FutureWarning: Series.__getitem__ treating keys as positions is deprecated. In a future version, integer keys will always be treated as labels (consistent with DataFrame behavior). To access a value by position, use `ser.iloc[pos]`\n",
      "  print(f\"Average age of patients with hypertension: {avg_age_hypertension[1]:.2f}\")\n",
      "C:\\Users\\USER\\AppData\\Local\\Temp\\ipykernel_14152\\1746251377.py:5: FutureWarning: Series.__getitem__ treating keys as positions is deprecated. In a future version, integer keys will always be treated as labels (consistent with DataFrame behavior). To access a value by position, use `ser.iloc[pos]`\n",
      "  print(f\"Average age of patients without hypertension: {avg_age_hypertension[0]:.2f}\")\n"
     ]
    }
   ],
   "source": [
    "# Average age of patients with and without hypertension\n",
    "avg_age_hypertension = df.groupby('Hipertension')['Age'].mean()\n",
    "\n",
    "print(f\"Average age of patients with hypertension: {avg_age_hypertension[1]:.2f}\")\n",
    "print(f\"Average age of patients without hypertension: {avg_age_hypertension[0]:.2f}\")"
   ]
  },
  {
   "cell_type": "markdown",
   "metadata": {},
   "source": [
    "##### 4. Average Days Between Scheduled and Appointment Day by Neighborhood\n"
   ]
  },
  {
   "cell_type": "code",
   "execution_count": 77,
   "metadata": {},
   "outputs": [
    {
     "data": {
      "text/plain": [
       "Neighbourhood\n",
       "PARQUE INDUSTRIAL               0.000000\n",
       "ILHA DO BOI                     4.142857\n",
       "NOVA PALESTINA                  4.673032\n",
       "ILHA DAS CAIEIRAS               4.986275\n",
       "ESTRELINHA                      5.267790\n",
       "                                 ...    \n",
       "MARUÍPE                        16.514209\n",
       "FONTE GRANDE                   18.089955\n",
       "JARDIM CAMBURI                 18.687846\n",
       "SANTA CECÍLIA                  22.054176\n",
       "ILHAS OCEÂNICAS DE TRINDADE    29.000000\n",
       "Name: DaysDifference, Length: 81, dtype: float64"
      ]
     },
     "execution_count": 77,
     "metadata": {},
     "output_type": "execute_result"
    }
   ],
   "source": [
    "# Calculate days difference\n",
    "df['DaysDifference'] = (pd.to_datetime(df['AppointmentDay']) - pd.to_datetime(df['ScheduledDay'])).dt.days\n",
    "\n",
    "# Average days difference by neighborhood\n",
    "df.groupby('Neighbourhood')['DaysDifference'].mean().sort_values()"
   ]
  },
  {
   "cell_type": "code",
   "execution_count": 104,
   "metadata": {},
   "outputs": [
    {
     "name": "stdout",
     "output_type": "stream",
     "text": [
      "object\n",
      "0    2016-04-29\n",
      "1    2016-04-29\n",
      "2    2016-04-29\n",
      "3    2016-04-29\n",
      "4    2016-04-29\n",
      "Name: ScheduledDay, dtype: object\n"
     ]
    }
   ],
   "source": [
    "# Check the data type of the 'ScheduledDay' column\n",
    "print(df['ScheduledDay'].dtype)\n",
    "\n",
    "# Display the first few rows of the 'ScheduledDay' column\n",
    "print(df['ScheduledDay'].head())"
   ]
  },
  {
   "cell_type": "code",
   "execution_count": 105,
   "metadata": {},
   "outputs": [],
   "source": [
    "df['ScheduledDay'] = pd.to_datetime(df['ScheduledDay'])"
   ]
  },
  {
   "cell_type": "code",
   "execution_count": 106,
   "metadata": {},
   "outputs": [
    {
     "name": "stdout",
     "output_type": "stream",
     "text": [
      "datetime64[ns]\n"
     ]
    }
   ],
   "source": [
    "print(df['ScheduledDay'].dtype)"
   ]
  },
  {
   "cell_type": "code",
   "execution_count": 107,
   "metadata": {},
   "outputs": [
    {
     "name": "stdout",
     "output_type": "stream",
     "text": [
      "0   2016-04-29\n",
      "1   2016-04-29\n",
      "2   2016-04-29\n",
      "3   2016-04-29\n",
      "4   2016-04-29\n",
      "Name: ScheduledDay, dtype: datetime64[ns]\n"
     ]
    }
   ],
   "source": [
    "# Before conversion (string format)\n",
    "print(df['ScheduledDay'].head())"
   ]
  },
  {
   "cell_type": "code",
   "execution_count": 109,
   "metadata": {},
   "outputs": [
    {
     "name": "stdout",
     "output_type": "stream",
     "text": [
      "0\n",
      "datetime64[ns]\n",
      "0   2016-04-29\n",
      "1   2016-04-29\n",
      "2   2016-04-29\n",
      "3   2016-04-29\n",
      "4   2016-04-29\n",
      "Name: ScheduledDay, dtype: datetime64[ns]\n"
     ]
    }
   ],
   "source": [
    "# Convert 'ScheduledDay' to datetime\n",
    "df['ScheduledDay'] = pd.to_datetime(df['ScheduledDay'], errors='coerce')\n",
    "\n",
    "# Check for missing values after conversion\n",
    "print(df['ScheduledDay'].isnull().sum())\n",
    "\n",
    "# Verify the data type\n",
    "print(df['ScheduledDay'].dtype)\n",
    "\n",
    "# Display the first few rows\n",
    "print(df['ScheduledDay'].head())"
   ]
  },
  {
   "cell_type": "markdown",
   "metadata": {},
   "source": [
    "##### 5. Appointments Scheduled on Weekends\n"
   ]
  },
  {
   "cell_type": "code",
   "execution_count": 112,
   "metadata": {},
   "outputs": [],
   "source": [
    "df['DayOfWeek'] = df['ScheduledDay'].dt.dayofweek"
   ]
  },
  {
   "cell_type": "code",
   "execution_count": 113,
   "metadata": {},
   "outputs": [],
   "source": [
    "day_names = {\n",
    "    0: 'Monday',\n",
    "    1: 'Tuesday',\n",
    "    2: 'Wednesday',\n",
    "    3: 'Thursday',\n",
    "    4: 'Friday',\n",
    "    5: 'Saturday',\n",
    "    6: 'Sunday'\n",
    "}"
   ]
  },
  {
   "cell_type": "code",
   "execution_count": 114,
   "metadata": {},
   "outputs": [],
   "source": [
    "df['DayOfWeek'] = df['DayOfWeek'].map(day_names)"
   ]
  },
  {
   "cell_type": "code",
   "execution_count": 115,
   "metadata": {},
   "outputs": [
    {
     "name": "stdout",
     "output_type": "stream",
     "text": [
      "0    Friday\n",
      "1    Friday\n",
      "2    Friday\n",
      "3    Friday\n",
      "4    Friday\n",
      "Name: DayOfWeek, dtype: object\n"
     ]
    }
   ],
   "source": [
    "print(df['DayOfWeek'].head())"
   ]
  },
  {
   "cell_type": "code",
   "execution_count": 116,
   "metadata": {},
   "outputs": [
    {
     "name": "stdout",
     "output_type": "stream",
     "text": [
      "0    Friday\n",
      "1    Friday\n",
      "2    Friday\n",
      "3    Friday\n",
      "4    Friday\n",
      "Name: DayOfWeek, dtype: object\n",
      "Appointments scheduled on weekends: 22\n",
      "Percentage of total appointments: 0.02%\n"
     ]
    }
   ],
   "source": [
    "# Convert 'ScheduledDay' to datetime\n",
    "df['ScheduledDay'] = pd.to_datetime(df['ScheduledDay'])\n",
    "\n",
    "# Extract day of the week as integers (0=Monday, 6=Sunday)\n",
    "df['DayOfWeek'] = df['ScheduledDay'].dt.dayofweek\n",
    "\n",
    "# Map integers to day names\n",
    "day_names = {\n",
    "    0: 'Monday',\n",
    "    1: 'Tuesday',\n",
    "    2: 'Wednesday',\n",
    "    3: 'Thursday',\n",
    "    4: 'Friday',\n",
    "    5: 'Saturday',\n",
    "    6: 'Sunday'\n",
    "}\n",
    "df['DayOfWeek'] = df['DayOfWeek'].map(day_names)\n",
    "\n",
    "# Verify the 'DayOfWeek' column\n",
    "print(df['DayOfWeek'].head())\n",
    "\n",
    "# Count weekend appointments (Saturday and Sunday)\n",
    "weekend_appointments = df[df['DayOfWeek'].isin(['Saturday', 'Sunday'])].shape[0]\n",
    "total_appointments = df.shape[0]\n",
    "weekend_percentage = (weekend_appointments / total_appointments) * 100\n",
    "\n",
    "print(f\"Appointments scheduled on weekends: {weekend_appointments}\")\n",
    "print(f\"Percentage of total appointments: {weekend_percentage:.2f}%\")"
   ]
  },
  {
   "cell_type": "markdown",
   "metadata": {},
   "source": [
    "##### 6. No-Show Rate on Weekdays vs. Weekends\n"
   ]
  },
  {
   "cell_type": "code",
   "execution_count": 117,
   "metadata": {},
   "outputs": [
    {
     "name": "stdout",
     "output_type": "stream",
     "text": [
      "No-show rate on weekdays: 20.27%\n",
      "No-show rate on weekends: 4.55%\n"
     ]
    }
   ],
   "source": [
    "# Add a column for weekend/weekday\n",
    "df['IsWeekend'] = df['DayOfWeek'].isin(['Saturday', 'Sunday'])\n",
    "\n",
    "# No-show rate by weekend/weekday\n",
    "no_show_rate = df.groupby('IsWeekend')['Showed_up'].apply(lambda x: (x == False).mean() * 100)\n",
    "\n",
    "print(f\"No-show rate on weekdays: {no_show_rate[False]:.2f}%\")\n",
    "print(f\"No-show rate on weekends: {no_show_rate[True]:.2f}%\")"
   ]
  },
  {
   "cell_type": "code",
   "execution_count": 118,
   "metadata": {},
   "outputs": [
    {
     "name": "stdout",
     "output_type": "stream",
     "text": [
      "DayOfWeek\n",
      "Tuesday      25280\n",
      "Wednesday    23544\n",
      "Monday       22247\n",
      "Friday       18374\n",
      "Thursday     17520\n",
      "Saturday        22\n",
      "Name: count, dtype: int64\n"
     ]
    }
   ],
   "source": [
    "# Count the occurrences of each day of the week\n",
    "day_counts = df['DayOfWeek'].value_counts()\n",
    "\n",
    "print(day_counts)"
   ]
  },
  {
   "cell_type": "markdown",
   "metadata": {},
   "source": [
    "##### 7. Percentage of Diabetic Patients with Hypertension\n"
   ]
  },
  {
   "cell_type": "code",
   "execution_count": 91,
   "metadata": {},
   "outputs": [
    {
     "name": "stdout",
     "output_type": "stream",
     "text": [
      "Percentage of diabetic patients with hypertension: 81.66%\n"
     ]
    }
   ],
   "source": [
    "# Percentage of diabetic patients with hypertension\n",
    "diabetic_with_hypertension = df[(df['Diabetes'] == 1) & (df['Hipertension'] == 1)].shape[0]\n",
    "diabetic_total = df[df['Diabetes'] == 1].shape[0]\n",
    "percentage = (diabetic_with_hypertension / diabetic_total) * 100\n",
    "\n",
    "print(f\"Percentage of diabetic patients with hypertension: {percentage:.2f}%\")"
   ]
  },
  {
   "cell_type": "markdown",
   "metadata": {},
   "source": [
    "##### 8. No-Show Rate by Health Condition\n"
   ]
  },
  {
   "cell_type": "code",
   "execution_count": 92,
   "metadata": {},
   "outputs": [
    {
     "name": "stdout",
     "output_type": "stream",
     "text": [
      "No-show rate for Hipertension:\n",
      "Hipertension\n",
      "False    21.022234\n",
      "True     17.301959\n",
      "Name: Showed_up, dtype: float64\n",
      "No-show rate for Diabetes:\n",
      "Diabetes\n",
      "False    20.445459\n",
      "True     18.003273\n",
      "Name: Showed_up, dtype: float64\n",
      "No-show rate for Alcoholism:\n",
      "Alcoholism\n",
      "False    20.267884\n",
      "True     20.148810\n",
      "Name: Showed_up, dtype: float64\n",
      "No-show rate for Handcap:\n",
      "Handcap\n",
      "False    20.308935\n",
      "True     18.169643\n",
      "Name: Showed_up, dtype: float64\n"
     ]
    }
   ],
   "source": [
    "# List of health conditions\n",
    "conditions = ['Hipertension', 'Diabetes', 'Alcoholism', 'Handcap']\n",
    "\n",
    "# Calculate no-show rate for each condition\n",
    "no_show_rates = {}\n",
    "for condition in conditions:\n",
    "    no_show_rate = df.groupby(condition)['Showed_up'].apply(lambda x: (x == False).mean() * 100)\n",
    "    no_show_rates[condition] = no_show_rate\n",
    "\n",
    "# Print results\n",
    "for condition, rates in no_show_rates.items():\n",
    "    print(f\"No-show rate for {condition}:\")\n",
    "    print(rates)"
   ]
  },
  {
   "cell_type": "markdown",
   "metadata": {},
   "source": [
    "##### 9. Patients with Multiple Health Conditions\n"
   ]
  },
  {
   "cell_type": "code",
   "execution_count": 93,
   "metadata": {},
   "outputs": [
    {
     "name": "stdout",
     "output_type": "stream",
     "text": [
      "Number of patients with multiple health conditions: 8289\n",
      "Average age of these patients: 62.16\n"
     ]
    }
   ],
   "source": [
    "# Count patients with multiple conditions\n",
    "df['MultipleConditions'] = df[['Hipertension', 'Diabetes', 'Alcoholism', 'Handcap']].sum(axis=1)\n",
    "patients_multiple_conditions = df[df['MultipleConditions'] > 1]\n",
    "\n",
    "# Average age of these patients\n",
    "avg_age = patients_multiple_conditions['Age'].mean()\n",
    "\n",
    "print(f\"Number of patients with multiple health conditions: {patients_multiple_conditions.shape[0]}\")\n",
    "print(f\"Average age of these patients: {avg_age:.2f}\")"
   ]
  },
  {
   "cell_type": "markdown",
   "metadata": {},
   "source": [
    "##### 10. No-Show Rate by SMS Reminder\n"
   ]
  },
  {
   "cell_type": "code",
   "execution_count": 94,
   "metadata": {},
   "outputs": [
    {
     "name": "stdout",
     "output_type": "stream",
     "text": [
      "No-show rate for patients who received SMS: 27.67%\n",
      "No-show rate for patients who did not receive SMS: 16.73%\n"
     ]
    },
    {
     "name": "stderr",
     "output_type": "stream",
     "text": [
      "C:\\Users\\USER\\AppData\\Local\\Temp\\ipykernel_14152\\3769308210.py:4: FutureWarning: Series.__getitem__ treating keys as positions is deprecated. In a future version, integer keys will always be treated as labels (consistent with DataFrame behavior). To access a value by position, use `ser.iloc[pos]`\n",
      "  print(f\"No-show rate for patients who received SMS: {no_show_rate_sms[1]:.2f}%\")\n",
      "C:\\Users\\USER\\AppData\\Local\\Temp\\ipykernel_14152\\3769308210.py:5: FutureWarning: Series.__getitem__ treating keys as positions is deprecated. In a future version, integer keys will always be treated as labels (consistent with DataFrame behavior). To access a value by position, use `ser.iloc[pos]`\n",
      "  print(f\"No-show rate for patients who did not receive SMS: {no_show_rate_sms[0]:.2f}%\")\n"
     ]
    }
   ],
   "source": [
    "# No-show rate for patients who received SMS vs. those who did not\n",
    "no_show_rate_sms = df.groupby('SMS_received')['Showed_up'].apply(lambda x: (x == False).mean() * 100)\n",
    "\n",
    "print(f\"No-show rate for patients who received SMS: {no_show_rate_sms[1]:.2f}%\")\n",
    "print(f\"No-show rate for patients who did not receive SMS: {no_show_rate_sms[0]:.2f}%\")"
   ]
  },
  {
   "cell_type": "markdown",
   "metadata": {},
   "source": [
    "##### 11. No-Show Rate by Age Group for Patients with SMS Reminders\n"
   ]
  },
  {
   "cell_type": "code",
   "execution_count": 96,
   "metadata": {},
   "outputs": [
    {
     "name": "stderr",
     "output_type": "stream",
     "text": [
      "C:\\Users\\USER\\AppData\\Local\\Temp\\ipykernel_14152\\3767705633.py:5: FutureWarning: The default of observed=False is deprecated and will be changed to True in a future version of pandas. Pass observed=False to retain current behavior or observed=True to adopt the future default and silence this warning.\n",
      "  sms_received.groupby('AgeGroup')['Showed_up'].apply(lambda x: (x == False).mean() * 100)\n"
     ]
    },
    {
     "data": {
      "text/plain": [
       "AgeGroup\n",
       "0-18     31.342691\n",
       "19-35    33.995904\n",
       "36-60    25.396825\n",
       "61+      19.230142\n",
       "Name: Showed_up, dtype: float64"
      ]
     },
     "execution_count": 96,
     "metadata": {},
     "output_type": "execute_result"
    }
   ],
   "source": [
    "# Filter patients who received SMS\n",
    "sms_received = df[df['SMS_received'] == 1]\n",
    "\n",
    "# No-show rate by age group\n",
    "sms_received.groupby('AgeGroup')['Showed_up'].apply(lambda x: (x == False).mean() * 100)\n"
   ]
  },
  {
   "cell_type": "markdown",
   "metadata": {},
   "source": [
    "##### 12. Show-Up Rate for Patients with SMS Reminders\n"
   ]
  },
  {
   "cell_type": "code",
   "execution_count": 97,
   "metadata": {},
   "outputs": [
    {
     "name": "stdout",
     "output_type": "stream",
     "text": [
      "Show-up rate for patients who received SMS: 72.33%\n",
      "Overall show-up rate: 79.74%\n"
     ]
    }
   ],
   "source": [
    "# Show-up rate for patients who received SMS\n",
    "show_up_rate_sms = sms_received['Showed_up'].mean() * 100\n",
    "\n",
    "# Overall show-up rate\n",
    "overall_show_up_rate = df['Showed_up'].mean() * 100\n",
    "\n",
    "print(f\"Show-up rate for patients who received SMS: {show_up_rate_sms:.2f}%\")\n",
    "print(f\"Overall show-up rate: {overall_show_up_rate:.2f}%\")"
   ]
  },
  {
   "cell_type": "markdown",
   "metadata": {},
   "source": [
    "##### 13. No-Show Rate by Scholarship Status\n"
   ]
  },
  {
   "cell_type": "code",
   "execution_count": 98,
   "metadata": {},
   "outputs": [
    {
     "name": "stdout",
     "output_type": "stream",
     "text": [
      "No-show rate for patients with scholarships: 23.79%\n",
      "No-show rate for patients without scholarships: 19.87%\n"
     ]
    },
    {
     "name": "stderr",
     "output_type": "stream",
     "text": [
      "C:\\Users\\USER\\AppData\\Local\\Temp\\ipykernel_14152\\1046628259.py:4: FutureWarning: Series.__getitem__ treating keys as positions is deprecated. In a future version, integer keys will always be treated as labels (consistent with DataFrame behavior). To access a value by position, use `ser.iloc[pos]`\n",
      "  print(f\"No-show rate for patients with scholarships: {no_show_rate_scholarship[1]:.2f}%\")\n",
      "C:\\Users\\USER\\AppData\\Local\\Temp\\ipykernel_14152\\1046628259.py:5: FutureWarning: Series.__getitem__ treating keys as positions is deprecated. In a future version, integer keys will always be treated as labels (consistent with DataFrame behavior). To access a value by position, use `ser.iloc[pos]`\n",
      "  print(f\"No-show rate for patients without scholarships: {no_show_rate_scholarship[0]:.2f}%\")\n"
     ]
    }
   ],
   "source": [
    "# No-show rate by scholarship status\n",
    "no_show_rate_scholarship = df.groupby('Scholarship')['Showed_up'].apply(lambda x: (x == False).mean() * 100)\n",
    "\n",
    "print(f\"No-show rate for patients with scholarships: {no_show_rate_scholarship[1]:.2f}%\")\n",
    "print(f\"No-show rate for patients without scholarships: {no_show_rate_scholarship[0]:.2f}%\")"
   ]
  },
  {
   "cell_type": "markdown",
   "metadata": {},
   "source": [
    "##### 14. Distribution of Health Conditions by Scholarship Status\n"
   ]
  },
  {
   "cell_type": "code",
   "execution_count": 102,
   "metadata": {},
   "outputs": [
    {
     "data": {
      "text/html": [
       "<div>\n",
       "<style scoped>\n",
       "    .dataframe tbody tr th:only-of-type {\n",
       "        vertical-align: middle;\n",
       "    }\n",
       "\n",
       "    .dataframe tbody tr th {\n",
       "        vertical-align: top;\n",
       "    }\n",
       "\n",
       "    .dataframe thead th {\n",
       "        text-align: right;\n",
       "    }\n",
       "</style>\n",
       "<table border=\"1\" class=\"dataframe\">\n",
       "  <thead>\n",
       "    <tr style=\"text-align: right;\">\n",
       "      <th></th>\n",
       "      <th>Hipertension</th>\n",
       "      <th>Diabetes</th>\n",
       "      <th>Alcoholism</th>\n",
       "      <th>Handcap</th>\n",
       "    </tr>\n",
       "    <tr>\n",
       "      <th>Scholarship</th>\n",
       "      <th></th>\n",
       "      <th></th>\n",
       "      <th></th>\n",
       "      <th></th>\n",
       "    </tr>\n",
       "  </thead>\n",
       "  <tbody>\n",
       "    <tr>\n",
       "      <th>False</th>\n",
       "      <td>20.708478</td>\n",
       "      <td>7.667034</td>\n",
       "      <td>2.944540</td>\n",
       "      <td>2.143941</td>\n",
       "    </tr>\n",
       "    <tr>\n",
       "      <th>True</th>\n",
       "      <td>17.429920</td>\n",
       "      <td>5.264132</td>\n",
       "      <td>4.884818</td>\n",
       "      <td>1.646776</td>\n",
       "    </tr>\n",
       "  </tbody>\n",
       "</table>\n",
       "</div>"
      ],
      "text/plain": [
       "             Hipertension  Diabetes  Alcoholism   Handcap\n",
       "Scholarship                                              \n",
       "False           20.708478  7.667034    2.944540  2.143941\n",
       "True            17.429920  5.264132    4.884818  1.646776"
      ]
     },
     "execution_count": 102,
     "metadata": {},
     "output_type": "execute_result"
    }
   ],
   "source": [
    "# Group by scholarship status and calculate the percentage of each condition\n",
    "df.groupby('Scholarship')[['Hipertension', 'Diabetes', 'Alcoholism', 'Handcap']].mean() * 100\n",
    "\n"
   ]
  },
  {
   "cell_type": "markdown",
   "metadata": {},
   "source": [
    "##### 15. Average Age by Scholarship Status\n"
   ]
  },
  {
   "cell_type": "code",
   "execution_count": 103,
   "metadata": {},
   "outputs": [
    {
     "name": "stdout",
     "output_type": "stream",
     "text": [
      "Average age of patients with scholarships: 30.76\n",
      "Average age of patients without scholarships: 39.16\n"
     ]
    },
    {
     "name": "stderr",
     "output_type": "stream",
     "text": [
      "C:\\Users\\USER\\AppData\\Local\\Temp\\ipykernel_14152\\1190057862.py:4: FutureWarning: Series.__getitem__ treating keys as positions is deprecated. In a future version, integer keys will always be treated as labels (consistent with DataFrame behavior). To access a value by position, use `ser.iloc[pos]`\n",
      "  print(f\"Average age of patients with scholarships: {avg_age_scholarship[1]:.2f}\")\n",
      "C:\\Users\\USER\\AppData\\Local\\Temp\\ipykernel_14152\\1190057862.py:5: FutureWarning: Series.__getitem__ treating keys as positions is deprecated. In a future version, integer keys will always be treated as labels (consistent with DataFrame behavior). To access a value by position, use `ser.iloc[pos]`\n",
      "  print(f\"Average age of patients without scholarships: {avg_age_scholarship[0]:.2f}\")\n"
     ]
    }
   ],
   "source": [
    "# Average age by scholarship status\n",
    "avg_age_scholarship = df.groupby('Scholarship')['Age'].mean()\n",
    "\n",
    "print(f\"Average age of patients with scholarships: {avg_age_scholarship[1]:.2f}\")\n",
    "print(f\"Average age of patients without scholarships: {avg_age_scholarship[0]:.2f}\")"
   ]
  },
  {
   "cell_type": "code",
   "execution_count": null,
   "metadata": {},
   "outputs": [],
   "source": []
  }
 ],
 "metadata": {
  "kernelspec": {
   "display_name": "base",
   "language": "python",
   "name": "python3"
  },
  "language_info": {
   "codemirror_mode": {
    "name": "ipython",
    "version": 3
   },
   "file_extension": ".py",
   "mimetype": "text/x-python",
   "name": "python",
   "nbconvert_exporter": "python",
   "pygments_lexer": "ipython3",
   "version": "3.12.7"
  }
 },
 "nbformat": 4,
 "nbformat_minor": 2
}
